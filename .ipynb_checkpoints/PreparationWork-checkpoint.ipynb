{
 "cells": [
  {
   "cell_type": "code",
   "execution_count": 1,
   "metadata": {},
   "outputs": [
    {
     "name": "stderr",
     "output_type": "stream",
     "text": [
      "Using TensorFlow backend.\n"
     ]
    }
   ],
   "source": [
    "import pandas as pd\n",
    "import numpy as np\n",
    "import matplotlib.pyplot as plt\n",
    "import matplotlib.image as mpimg\n",
    "import os\n",
    "%matplotlib inline\n",
    "\n",
    "np.random.seed(42)\n",
    "\n",
    "from sklearn.metrics import accuracy_score\n",
    "import itertools\n",
    "\n",
    "from PIL import Image\n",
    "from IPython.display import display\n",
    "\n",
    "from keras.models import load_model\n",
    "from keras.utils.np_utils import to_categorical # convert to one-hot-encoding\n",
    "from keras.models import Sequential\n",
    "from keras.layers import Dense, Dropout, Flatten, Conv2D, MaxPool2D\n"
   ]
  },
  {
   "cell_type": "markdown",
   "metadata": {},
   "source": [
    "# Defining model"
   ]
  },
  {
   "cell_type": "code",
   "execution_count": 2,
   "metadata": {},
   "outputs": [],
   "source": [
    "model = Sequential()\n",
    "\n",
    "model.add(Conv2D(filters = 32, kernel_size = (5,5),padding = 'Same', \n",
    "                 activation ='relu', input_shape = (28,28,1)))\n",
    "model.add(Conv2D(filters = 32, kernel_size = (5,5),padding = 'Same', \n",
    "                 activation ='relu'))\n",
    "model.add(MaxPool2D(pool_size=(2,2)))\n",
    "model.add(Dropout(0.25))\n",
    "\n",
    "\n",
    "model.add(Conv2D(filters = 64, kernel_size = (3,3),padding = 'Same', \n",
    "                 activation ='relu'))\n",
    "model.add(Conv2D(filters = 64, kernel_size = (3,3),padding = 'Same', \n",
    "                 activation ='relu'))\n",
    "model.add(MaxPool2D(pool_size=(2,2), strides=(2,2)))\n",
    "model.add(Dropout(0.25))\n",
    "\n",
    "\n",
    "model.add(Flatten())\n",
    "model.add(Dense(256, activation = \"relu\"))\n",
    "model.add(Dropout(0.5))\n",
    "model.add(Dense(10, activation = \"softmax\"))"
   ]
  },
  {
   "cell_type": "markdown",
   "metadata": {},
   "source": [
    "# Loading pretrained weights"
   ]
  },
  {
   "cell_type": "code",
   "execution_count": 3,
   "metadata": {},
   "outputs": [],
   "source": [
    "model.load_weights(\"model_weights_50epochs.h5\")"
   ]
  },
  {
   "cell_type": "markdown",
   "metadata": {},
   "source": [
    "# Loading some MNIST data for test"
   ]
  },
  {
   "cell_type": "code",
   "execution_count": 4,
   "metadata": {},
   "outputs": [
    {
     "name": "stdout",
     "output_type": "stream",
     "text": [
      "(42000, 28, 28, 1)\n"
     ]
    }
   ],
   "source": [
    "train = pd.read_csv(\"train.csv\")\n",
    "test = pd.read_csv(\"test.csv\")\n",
    "\n",
    "Y_train = train[\"label\"]\n",
    "X_train = train.drop(\"label\", axis=1)\n",
    "\n",
    "# Normalization\n",
    "test = test/255.\n",
    "X_train = X_train/255.\n",
    "\n",
    "X_train = np.array(X_train).reshape(-1, 28, 28, 1)\n",
    "print(X_train.shape)"
   ]
  },
  {
   "cell_type": "markdown",
   "metadata": {},
   "source": [
    "# Prediction and accuracy estimation"
   ]
  },
  {
   "cell_type": "code",
   "execution_count": 5,
   "metadata": {},
   "outputs": [
    {
     "name": "stdout",
     "output_type": "stream",
     "text": [
      "Estimated accuracy: 0.9954047619047619\n"
     ]
    }
   ],
   "source": [
    "predictions = model.predict(X_train)\n",
    "pred_classes = np.argmax(predictions,axis = 1) \n",
    "print(\"Estimated accuracy: {}\".format(accuracy_score(pred_classes, Y_train)))"
   ]
  },
  {
   "cell_type": "markdown",
   "metadata": {},
   "source": [
    "# Loading sample images"
   ]
  },
  {
   "cell_type": "code",
   "execution_count": 6,
   "metadata": {},
   "outputs": [
    {
     "data": {
      "image/png": "[encoded data removed]",
      "text/plain": [
       "<PIL.PngImagePlugin.PngImageFile image mode=L size=112x28 at 0x1EBA15D2F08>"
      ]
     },
     "metadata": {},
     "output_type": "display_data"
    }
   ],
   "source": [
    "test_image_1 = Image.open(\"images/00000.png\")\n",
    "display(test_image_1)"
   ]
  },
  {
   "cell_type": "code",
   "execution_count": 7,
   "metadata": {},
   "outputs": [
    {
     "data": {
      "text/plain": [
       "(112, 28)"
      ]
     },
     "execution_count": 7,
     "metadata": {},
     "output_type": "execute_result"
    }
   ],
   "source": [
    "test_image_1.size"
   ]
  },
  {
   "cell_type": "code",
   "execution_count": 8,
   "metadata": {},
   "outputs": [],
   "source": [
    "array_test_image_1 = np.array(test_image_1, dtype = 'float32').reshape(1,28,112,1)\n",
    "array_test_image_1 = array_test_image_1 / 255."
   ]
  },
  {
   "cell_type": "code",
   "execution_count": 9,
   "metadata": {},
   "outputs": [
    {
     "data": {
      "text/plain": [
       "(28, 112)"
      ]
     },
     "execution_count": 9,
     "metadata": {},
     "output_type": "execute_result"
    }
   ],
   "source": [
    "np.array(test_image_1,dtype = 'float32').shape"
   ]
  },
  {
   "cell_type": "code",
   "execution_count": 10,
   "metadata": {},
   "outputs": [
    {
     "data": {
      "text/plain": [
       "(1, 28, 112, 1)"
      ]
     },
     "execution_count": 10,
     "metadata": {},
     "output_type": "execute_result"
    }
   ],
   "source": [
    "array_test_image_1.shape"
   ]
  },
  {
   "cell_type": "code",
   "execution_count": 11,
   "metadata": {},
   "outputs": [
    {
     "data": {
      "text/plain": [
       "<matplotlib.image.AxesImage at 0x1eba16b7308>"
      ]
     },
     "execution_count": 11,
     "metadata": {},
     "output_type": "execute_result"
    },
    {
     "data": {
      "image/png": "[encoded data removed]",
      "text/plain": [
       "<Figure size 432x288 with 1 Axes>"
      ]
     },
     "metadata": {
      "needs_background": "light"
     },
     "output_type": "display_data"
    }
   ],
   "source": [
    "plt.imshow(array_test_image_1[0][:,:28,0])"
   ]
  },
  {
   "cell_type": "markdown",
   "metadata": {},
   "source": [
    "# Predicting splitted image"
   ]
  },
  {
   "cell_type": "code",
   "execution_count": 12,
   "metadata": {},
   "outputs": [
    {
     "data": {
      "text/plain": [
       "<matplotlib.image.AxesImage at 0x1eba1c41948>"
      ]
     },
     "execution_count": 12,
     "metadata": {},
     "output_type": "execute_result"
    },
    {
     "data": {
      "image/png": "[encoded data removed]",
      "text/plain": [
       "<Figure size 432x288 with 1 Axes>"
      ]
     },
     "metadata": {
      "needs_background": "light"
     },
     "output_type": "display_data"
    }
   ],
   "source": [
    "plt.imshow(array_test_image_1[0][:,28:56,0])"
   ]
  },
  {
   "cell_type": "code",
   "execution_count": 13,
   "metadata": {},
   "outputs": [
    {
     "data": {
      "text/plain": [
       "array([1], dtype=int64)"
      ]
     },
     "execution_count": 13,
     "metadata": {},
     "output_type": "execute_result"
    }
   ],
   "source": [
    "model.predict_classes(array_test_image_1[:, :,28:56,])"
   ]
  },
  {
   "cell_type": "code",
   "execution_count": 14,
   "metadata": {},
   "outputs": [
    {
     "data": {
      "text/plain": [
       "(1, 28, 28, 1)"
      ]
     },
     "execution_count": 14,
     "metadata": {},
     "output_type": "execute_result"
    }
   ],
   "source": [
    "array_test_image_1[:, :,:28,].shape"
   ]
  },
  {
   "cell_type": "markdown",
   "metadata": {},
   "source": [
    "# Function to generate sample like data(composed from mnist numbers)"
   ]
  },
  {
   "cell_type": "code",
   "execution_count": 15,
   "metadata": {},
   "outputs": [],
   "source": [
    "def generate_1x4_image(num_of_images, num_of_digits):\n",
    "    list_of_images = []\n",
    "    actual_classes = []\n",
    "    for im in range(num_of_images):\n",
    "        rand_indexes = np.random.randint(28000, size=(num_of_digits))\n",
    "        long_image  = X_train[rand_indexes[0]][:,:,0]\n",
    "        image_labels =[ Y_train[index] for index in rand_indexes]\n",
    "        for ind in range(1,num_of_digits):\n",
    "            long_image  = np.concatenate((long_image, X_train[rand_indexes[ind]][:,:,0]), axis=1)\n",
    "        actual_classes.append(image_labels)\n",
    "        list_of_images.append(long_image)\n",
    "    return np.array(list_of_images), actual_classes"
   ]
  },
  {
   "cell_type": "code",
   "execution_count": 16,
   "metadata": {},
   "outputs": [],
   "source": [
    "# If you want to create some test data, then run this cell\n",
    "# Pass to the function number of test images, and amount of numbers each image will contain\n",
    "gen_images, gen_images_labels = generate_1x4_image(20, 4)"
   ]
  },
  {
   "cell_type": "code",
   "execution_count": 17,
   "metadata": {},
   "outputs": [
    {
     "data": {
      "text/plain": [
       "(20, 28, 112)"
      ]
     },
     "execution_count": 17,
     "metadata": {},
     "output_type": "execute_result"
    }
   ],
   "source": [
    "gen_images.shape"
   ]
  },
  {
   "cell_type": "markdown",
   "metadata": {},
   "source": [
    "# Saving generated images to the folder"
   ]
  },
  {
   "cell_type": "code",
   "execution_count": 18,
   "metadata": {},
   "outputs": [],
   "source": [
    "for im in range(20):\n",
    "    save_image_name = \"\".join(list(map(lambda x: str(x), gen_images_labels[im])))\n",
    "    save_image = (((gen_images[im] - gen_images[im].min()) /\\\n",
    "                   (gen_images[im].max() - gen_images[im].min())) * 255.9).astype(np.uint8)\n",
    "    save_image = Image.fromarray(save_image)\n",
    "    save_path = \"GeneratedTestImages/\"+save_image_name+\".png\"\n",
    "    save_image.save(save_path)"
   ]
  },
  {
   "cell_type": "markdown",
   "metadata": {},
   "source": [
    "# Functions to split whole image, and to predict whole image"
   ]
  },
  {
   "cell_type": "code",
   "execution_count": 19,
   "metadata": {},
   "outputs": [],
   "source": [
    "def split_image(image_array, num_of_digits):\n",
    "    \"\"\"Function splits the whole image into several images - 1 image for each digit\n",
    "       Takes: image_array - (1, 28, 28*num_of_digits, 1)\n",
    "       returns (num_of_images, 28, 28, 1) array\"\"\"\n",
    "    \n",
    "    new_array = image_array.copy().reshape(num_of_digits, 28, 28, 1)\n",
    "    for im in range(num_of_digits):\n",
    "        new_array[im][:,:,0] = image_array[0][:,28*im:28*(im+1), 0]# separating imput image into N images\n",
    "    return new_array\n",
    "\n",
    "\n",
    "def predict_full_image(image_path):\n",
    "    \"\"\"Function predicts all numbers on input image, in order from left to right\"\"\"\n",
    "    \n",
    "    # Openning image\n",
    "    input_image = Image.open(image_path)\n",
    "    # Converting it into numpy array, each value is in range (0, 255)\n",
    "    image_array = np.array(input_image, dtype = 'float32')\n",
    "    # Normalizing image\n",
    "    image_array = image_array / 255.\n",
    "    image_shape = image_array.shape\n",
    "    if(image_shape[0] > image_shape[1]): # Image is looks like column of numbers\n",
    "        image_array = np.rot90(image_array)\n",
    "        image_shape = image_array.shape\n",
    "    # Reshaping from (28, 28*num_digits) to (1, 28, 28*num_digits,1)\n",
    "    image_array = image_array.reshape(1, 28, image_shape[1],1)\n",
    "    num_of_digits = image_shape[1] // 28\n",
    "    # Reshaping from (1,28, 28*num_digits,1) to (num_digits, 28, 28,1)\n",
    "    splitted_images = split_image(image_array, num_of_digits)\n",
    "    # Predicting result\n",
    "    answer = model.predict_classes(splitted_images)\n",
    "    answer = \"\".join(str(x) for x in answer)\n",
    "    return(answer)"
   ]
  },
  {
   "cell_type": "markdown",
   "metadata": {},
   "source": [
    "# Some tests"
   ]
  },
  {
   "cell_type": "code",
   "execution_count": 20,
   "metadata": {},
   "outputs": [
    {
     "data": {
      "text/plain": [
       "'4973'"
      ]
     },
     "execution_count": 20,
     "metadata": {},
     "output_type": "execute_result"
    }
   ],
   "source": [
    "predict_full_image(\"C:/Users/AndriiHura/Desktop/4973.png\")"
   ]
  },
  {
   "cell_type": "code",
   "execution_count": 21,
   "metadata": {},
   "outputs": [
    {
     "data": {
      "text/plain": [
       "'4770'"
      ]
     },
     "execution_count": 21,
     "metadata": {},
     "output_type": "execute_result"
    }
   ],
   "source": [
    "predict_full_image(\"images/00009.png\")"
   ]
  },
  {
   "cell_type": "code",
   "execution_count": 22,
   "metadata": {},
   "outputs": [],
   "source": [
    "example_images = os.listdir(\"images\")"
   ]
  },
  {
   "cell_type": "code",
   "execution_count": 23,
   "metadata": {},
   "outputs": [
    {
     "name": "stdout",
     "output_type": "stream",
     "text": [
      "4146\n",
      "2978\n",
      "3161\n",
      "2759\n",
      "8123\n",
      "6528\n",
      "2276\n",
      "2407\n",
      "6351\n",
      "4770\n"
     ]
    }
   ],
   "source": [
    "for image in example_images:\n",
    "    path = \"images/\"+image\n",
    "    print(predict_full_image(path))"
   ]
  },
  {
   "cell_type": "code",
   "execution_count": 24,
   "metadata": {},
   "outputs": [],
   "source": [
    "test_gen_images = os.listdir(\"GeneratedTestImages\")"
   ]
  },
  {
   "cell_type": "code",
   "execution_count": 25,
   "metadata": {},
   "outputs": [
    {
     "name": "stdout",
     "output_type": "stream",
     "text": [
      "Actulal label: 0191.png, Predicted label: 0191\n",
      "Actulal label: 0259.png, Predicted label: 0259\n",
      "Actulal label: 0638.png, Predicted label: 0638\n",
      "Actulal label: 0861.png, Predicted label: 0861\n",
      "Actulal label: 1022.png, Predicted label: 1022\n",
      "Actulal label: 1360.png, Predicted label: 1360\n",
      "Actulal label: 1461.png, Predicted label: 1461\n",
      "Actulal label: 1621.png, Predicted label: 1621\n",
      "Actulal label: 1877.png, Predicted label: 1877\n",
      "Actulal label: 2207.png, Predicted label: 2207\n",
      "Actulal label: 3070.png, Predicted label: 3070\n",
      "Actulal label: 3642.png, Predicted label: 3642\n",
      "Actulal label: 4625.png, Predicted label: 4625\n",
      "Actulal label: 4667.png, Predicted label: 4667\n",
      "Actulal label: 4720.png, Predicted label: 4720\n",
      "Actulal label: 4835.png, Predicted label: 4835\n",
      "Actulal label: 5005.png, Predicted label: 5005\n",
      "Actulal label: 5356.png, Predicted label: 5356\n",
      "Actulal label: 5521.png, Predicted label: 5521\n",
      "Actulal label: 5525.png, Predicted label: 5525\n",
      "Actulal label: 5902.png, Predicted label: 5902\n",
      "Actulal label: 6131.png, Predicted label: 6131\n",
      "Actulal label: 6452.png, Predicted label: 6452\n",
      "Actulal label: 6640.png, Predicted label: 6640\n",
      "Actulal label: 6671.png, Predicted label: 6671\n",
      "Actulal label: 7107.png, Predicted label: 7107\n",
      "Actulal label: 7261.png, Predicted label: 7261\n",
      "Actulal label: 7831.png, Predicted label: 7831\n",
      "Actulal label: 7879.png, Predicted label: 7879\n",
      "Actulal label: 7942.png, Predicted label: 7992\n",
      "Actulal label: 8177.png, Predicted label: 8177\n",
      "Actulal label: 8431.png, Predicted label: 8431\n",
      "Actulal label: 8743.png, Predicted label: 8743\n",
      "Actulal label: 8885.png, Predicted label: 8885\n",
      "Actulal label: 8934.png, Predicted label: 8934\n",
      "Actulal label: 9167.png, Predicted label: 9167\n",
      "Actulal label: 9751.png, Predicted label: 9751\n",
      "Actulal label: 9771.png, Predicted label: 9771\n",
      "Actulal label: 9795.png, Predicted label: 9795\n",
      "Actulal label: 9831.png, Predicted label: 9831\n"
     ]
    }
   ],
   "source": [
    "for image in test_gen_images:\n",
    "    path = \"GeneratedTestImages/\"+image\n",
    "    predicted = predict_full_image(path)\n",
    "    predicted = \"\".join(list(map(lambda x: str(x), predicted)))\n",
    "    print(\"Actulal label: {}, Predicted label: {}\".format(image,predicted ))"
   ]
  },
  {
   "cell_type": "code",
   "execution_count": 26,
   "metadata": {},
   "outputs": [],
   "source": [
    "#predict_full_image(input())"
   ]
  },
  {
   "cell_type": "code",
   "execution_count": 27,
   "metadata": {},
   "outputs": [],
   "source": [
    "# from tkinter import Tk\n",
    "# from tkinter.filedialog import askopenfilename"
   ]
  },
  {
   "cell_type": "code",
   "execution_count": 28,
   "metadata": {},
   "outputs": [],
   "source": [
    "# Tk().withdraw() # we don't want a full GUI, so keep the root window from appearing\n",
    "# filename = askopenfilename() # show an \"Open\" dialog box and return the path to the selected file\n",
    "# print(filename)"
   ]
  },
  {
   "cell_type": "code",
   "execution_count": 29,
   "metadata": {},
   "outputs": [],
   "source": [
    "# predict_full_image(askopenfilename())"
   ]
  },
  {
   "cell_type": "code",
   "execution_count": 30,
   "metadata": {},
   "outputs": [],
   "source": [
    "# for image in example_images:\n",
    "#     path = \"images/\"+image\n",
    "#     plt.imshow((path))"
   ]
  },
  {
   "cell_type": "code",
   "execution_count": 43,
   "metadata": {},
   "outputs": [],
   "source": [
    "def get_all_images(example_images):\n",
    "    images_array = np.zeros((40, 28, 28, 1))\n",
    "    i = 0\n",
    "    for image in example_images:\n",
    "        path = \"images/\"+image\n",
    "        # Openning image\n",
    "        input_image = Image.open(path)\n",
    "        # Converting it into numpy array, each value is in range (0, 255)\n",
    "        image_array = np.array(input_image, dtype = 'float32')\n",
    "        # Normalizing image\n",
    "        image_array = image_array / 255.\n",
    "        image_shape = image_array.shape\n",
    "        if(image_shape[0] > image_shape[1]): # Image is looks like column of numbers\n",
    "            image_array = np.rot90(image_array)\n",
    "            image_shape = image_array.shape\n",
    "        # Reshaping from (28, 28*num_digits) to (1, 28, 28*num_digits,1)\n",
    "        image_array = image_array.reshape(1, 28, image_shape[1],1)\n",
    "        num_of_digits = image_shape[1] // 28\n",
    "        # Reshaping from (1,28, 28*num_digits,1) to (num_digits, 28, 28,1)\n",
    "        splitted_images = split_image(image_array, num_of_digits)\n",
    "        images_array[i:i+4, :, :, :] = splitted_images\n",
    "        i += 4\n",
    "    return images_array"
   ]
  },
  {
   "cell_type": "code",
   "execution_count": 45,
   "metadata": {},
   "outputs": [],
   "source": [
    "example_images_array = get_all_images(example_images)"
   ]
  },
  {
   "cell_type": "code",
   "execution_count": 47,
   "metadata": {},
   "outputs": [
    {
     "data": {
      "text/plain": [
       "(40, 28, 28, 1)"
      ]
     },
     "execution_count": 47,
     "metadata": {},
     "output_type": "execute_result"
    }
   ],
   "source": [
    "example_images_array.shape"
   ]
  },
  {
   "cell_type": "code",
   "execution_count": null,
   "metadata": {},
   "outputs": [],
   "source": [
    "example_images_labels = np.array([4, 1, 4, 6,   \n",
    "                                  2, 9, 7, 8,   \n",
    "                                  3, 1, 6, 1,   \n",
    "                                  2, 7, 9, 6,  \n",
    "                                  8, 1, 2, 9,  \n",
    "                                  6, 5, 2, 8,  \n",
    "                                  2, 1, 7, 6,\n",
    "                                  2, 4, 0, 7,\n",
    "                                  6, 8, 5, 1,\n",
    "                                  4, 7, 7, 0\n",
    "                                  ])"
   ]
  },
  {
   "cell_type": "code",
   "execution_count": 54,
   "metadata": {},
   "outputs": [
    {
     "data": {
      "text/plain": [
       "<matplotlib.image.AxesImage at 0x1eba44100c8>"
      ]
     },
     "execution_count": 54,
     "metadata": {},
     "output_type": "execute_result"
    },
    {
     "data": {
      "image/png": "[encoded data removed]",
      "text/plain": [
       "<Figure size 432x288 with 1 Axes>"
      ]
     },
     "metadata": {
      "needs_background": "light"
     },
     "output_type": "display_data"
    }
   ],
   "source": [
    "plt.imshow(example_images_array[0, :, :, 0])"
   ]
  },
  {
   "cell_type": "code",
   "execution_count": null,
   "metadata": {},
   "outputs": [],
   "source": []
  }
 ],
 "metadata": {
  "kernelspec": {
   "display_name": "Python 3",
   "language": "python",
   "name": "python3"
  },
  "language_info": {
   "codemirror_mode": {
    "name": "ipython",
    "version": 3
   },
   "file_extension": ".py",
   "mimetype": "text/x-python",
   "name": "python",
   "nbconvert_exporter": "python",
   "pygments_lexer": "ipython3",
   "version": "3.7.4"
  }
 },
 "nbformat": 4,
 "nbformat_minor": 2
}
